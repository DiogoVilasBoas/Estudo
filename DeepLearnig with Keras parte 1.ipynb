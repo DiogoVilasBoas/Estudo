{
  "nbformat": 4,
  "nbformat_minor": 0,
  "metadata": {
    "colab": {
      "name": "roupas.ipynb",
      "provenance": [],
      "collapsed_sections": [],
      "authorship_tag": "ABX9TyOfMt65X1dIe+p4iCt8wmvX",
      "include_colab_link": true
    },
    "kernelspec": {
      "name": "python3",
      "display_name": "Python 3"
    }
  },
  "cells": [
    {
      "cell_type": "markdown",
      "metadata": {
        "id": "view-in-github",
        "colab_type": "text"
      },
      "source": [
        "<a href=\"https://colab.research.google.com/github/DiogoVilasBoas/Estudo/blob/master/DeepLearnig%20with%20Keras%20parte%201.ipynb\" target=\"_parent\"><img src=\"https://colab.research.google.com/assets/colab-badge.svg\" alt=\"Open In Colab\"/></a>"
      ]
    },
    {
      "cell_type": "markdown",
      "metadata": {
        "id": "AQAL4tEHGCz1",
        "colab_type": "text"
      },
      "source": [
        "Imports\n"
      ]
    },
    {
      "cell_type": "code",
      "metadata": {
        "id": "kfpW7MWa8MeZ",
        "colab_type": "code",
        "colab": {}
      },
      "source": [
        "#imports\n",
        "import tensorflow\n",
        "from tensorflow import keras\n",
        "import matplotlib.pyplot as plt\n",
        "import numpy as np\n",
        "from tensorflow.keras.models import load_model"
      ],
      "execution_count": 0,
      "outputs": []
    },
    {
      "cell_type": "markdown",
      "metadata": {
        "id": "fEfLrMxpGGlO",
        "colab_type": "text"
      },
      "source": [
        "Carregando o dataset"
      ]
    },
    {
      "cell_type": "code",
      "metadata": {
        "id": "hIR0oG5EVhLD",
        "colab_type": "code",
        "colab": {}
      },
      "source": [
        "#carregar o dataset\n",
        "dataset = keras.datasets.fashion_mnist\n",
        "((imagens_treino, identificacoes_treino), (imagens_teste, identificacoes_teste)) = dataset.load_data()"
      ],
      "execution_count": 0,
      "outputs": []
    },
    {
      "cell_type": "markdown",
      "metadata": {
        "id": "xTLdj9RjGJ06",
        "colab_type": "text"
      },
      "source": [
        "Exploração dos dados"
      ]
    },
    {
      "cell_type": "code",
      "metadata": {
        "id": "4K5y0ipTF7CN",
        "colab_type": "code",
        "outputId": "5843c635-ebd0-4d48-89e6-70fd62d34231",
        "colab": {
          "base_uri": "https://localhost:8080/",
          "height": 282
        }
      },
      "source": [
        "#explorar os dados\n",
        "plt.imshow(imagens_teste[0])\n",
        "total_classificacoes = 10\n",
        "nomes_de_classificacoes = ['Camiseta', 'Calça', 'Pullover', \n",
        "                           'Vestido', 'Casaco', 'Sandália', 'Camisa',\n",
        "                           'Tênis', 'Bolsa', 'Bota']\n",
        "len(imagens_treino)\n",
        "imagens_treino.shape\n",
        "imagens_teste.shape\n",
        "len(identificacoes_teste)\n",
        "identificacoes_treino.min()\n",
        "identificacoes_treino.max()"
      ],
      "execution_count": 3,
      "outputs": [
        {
          "output_type": "execute_result",
          "data": {
            "text/plain": [
              "9"
            ]
          },
          "metadata": {
            "tags": []
          },
          "execution_count": 3
        },
        {
          "output_type": "display_data",
          "data": {
            "image/png": "[encoded data removed]",
            "text/plain": [
              "<Figure size 432x288 with 1 Axes>"
            ]
          },
          "metadata": {
            "tags": [],
            "needs_background": "light"
          }
        }
      ]
    },
    {
      "cell_type": "markdown",
      "metadata": {
        "id": "KUOtYO9HGS9U",
        "colab_type": "text"
      },
      "source": [
        "Exibição dos dados"
      ]
    },
    {
      "cell_type": "code",
      "metadata": {
        "id": "R4AMceLtGPnq",
        "colab_type": "code",
        "outputId": "625ab153-1e73-49ba-d447-f64de7542f5d",
        "colab": {
          "base_uri": "https://localhost:8080/",
          "height": 282
        }
      },
      "source": [
        "#exibir os dados\n",
        "'''\n",
        "for imagem in range(10):\n",
        "  plt.subplot(2, 5, imagem+1)\n",
        "  plt.imshow(imagens_treino[imagem])\n",
        "  plt.title(nomes_de_classificacoes[identificacoes_treino[imagem]])\n",
        "'''\n",
        "\n",
        "plt.imshow(imagens_treino[0])\n",
        "plt.colorbar()"
      ],
      "execution_count": 4,
      "outputs": [
        {
          "output_type": "execute_result",
          "data": {
            "text/plain": [
              "<matplotlib.colorbar.Colorbar at 0x7fbbc0587470>"
            ]
          },
          "metadata": {
            "tags": []
          },
          "execution_count": 4
        },
        {
          "output_type": "display_data",
          "data": {
            "image/png": "[encoded data removed]",
            "text/plain": [
              "<Figure size 432x288 with 2 Axes>"
            ]
          },
          "metadata": {
            "tags": [],
            "needs_background": "light"
          }
        }
      ]
    },
    {
      "cell_type": "markdown",
      "metadata": {
        "id": "x_q7U3-WDw-e",
        "colab_type": "text"
      },
      "source": [
        "Normalização"
      ]
    },
    {
      "cell_type": "code",
      "metadata": {
        "id": "1fDl5-6KGbpr",
        "colab_type": "code",
        "colab": {}
      },
      "source": [
        "#normalização\n",
        "imagens_treino = imagens_treino/float(255)"
      ],
      "execution_count": 0,
      "outputs": []
    },
    {
      "cell_type": "markdown",
      "metadata": {
        "id": "hbrDb3tnGDay",
        "colab_type": "text"
      },
      "source": [
        "Criando, compilando, treinando e normalizando o modelo"
      ]
    },
    {
      "cell_type": "code",
      "metadata": {
        "id": "t0zGa0C1GCkn",
        "colab_type": "code",
        "colab": {
          "base_uri": "https://localhost:8080/",
          "height": 187
        },
        "outputId": "439f3840-2382-4acb-8155-d742b227e8c9"
      },
      "source": [
        "modelo = keras.Sequential([\n",
        "  keras.layers.Flatten(input_shape = (28, 28)),   \n",
        "  keras.layers.Dense(256, activation=tensorflow.nn.relu),\n",
        "  keras.layers.Dropout(0.2),\n",
        "  keras.layers.Dense(10, activation= tensorflow.nn.softmax)\n",
        "])\n",
        "modelo.compile(optimizer='adam',\n",
        "               loss='sparse_categorical_crossentropy',\n",
        "               metrics=['accuracy'])\n",
        "historico = modelo.fit(imagens_treino, identificacoes_treino, epochs =5, validation_split=0.2)"
      ],
      "execution_count": 6,
      "outputs": [
        {
          "output_type": "stream",
          "text": [
            "Epoch 1/5\n",
            "1500/1500 [==============================] - 4s 3ms/step - loss: 0.5336 - accuracy: 0.8115 - val_loss: 0.4228 - val_accuracy: 0.8516\n",
            "Epoch 2/5\n",
            "1500/1500 [==============================] - 4s 3ms/step - loss: 0.3982 - accuracy: 0.8554 - val_loss: 0.3712 - val_accuracy: 0.8665\n",
            "Epoch 3/5\n",
            "1500/1500 [==============================] - 4s 3ms/step - loss: 0.3638 - accuracy: 0.8664 - val_loss: 0.3533 - val_accuracy: 0.8703\n",
            "Epoch 4/5\n",
            "1500/1500 [==============================] - 4s 3ms/step - loss: 0.3417 - accuracy: 0.8741 - val_loss: 0.3367 - val_accuracy: 0.8798\n",
            "Epoch 5/5\n",
            "1500/1500 [==============================] - 4s 3ms/step - loss: 0.3220 - accuracy: 0.8815 - val_loss: 0.3306 - val_accuracy: 0.8826\n"
          ],
          "name": "stdout"
        }
      ]
    },
    {
      "cell_type": "markdown",
      "metadata": {
        "id": "qA-zqT96D10F",
        "colab_type": "text"
      },
      "source": [
        "Salvando o modelo"
      ]
    },
    {
      "cell_type": "code",
      "metadata": {
        "id": "Xxzc8mDBCLDq",
        "colab_type": "code",
        "colab": {
          "base_uri": "https://localhost:8080/",
          "height": 34
        },
        "outputId": "30407442-5628-4014-ae2f-09f502e847a3"
      },
      "source": [
        "#salvar modelo\n",
        "modelo.save('modelo.h5')\n",
        "modelo_salvo = load_model('modelo.h5')"
      ],
      "execution_count": 7,
      "outputs": [
        {
          "output_type": "stream",
          "text": [
            "WARNING:tensorflow:Error in loading the saved optimizer state. As a result, your model is starting with a freshly initialized optimizer.\n"
          ],
          "name": "stdout"
        }
      ]
    },
    {
      "cell_type": "markdown",
      "metadata": {
        "id": "IyQ_wzigD55T",
        "colab_type": "text"
      },
      "source": [
        "Analisando o Under e o Overfiting do modelo"
      ]
    },
    {
      "cell_type": "code",
      "metadata": {
        "id": "Bpi93CA6-emh",
        "colab_type": "code",
        "colab": {
          "base_uri": "https://localhost:8080/",
          "height": 314
        },
        "outputId": "5a62a7a5-bda2-4a6e-d4fe-be2b22f63f45"
      },
      "source": [
        "plt.plot(historico.history['accuracy'])\n",
        "plt.plot(historico.history['val_accuracy'])\n",
        "plt.title('Acurácia por épocas')\n",
        "plt.xlabel('Épocas')\n",
        "plt.ylabel('Acurárcia')\n",
        "plt.legend(['treino','avaliacao'])"
      ],
      "execution_count": 8,
      "outputs": [
        {
          "output_type": "execute_result",
          "data": {
            "text/plain": [
              "<matplotlib.legend.Legend at 0x7fbbb5aeeb70>"
            ]
          },
          "metadata": {
            "tags": []
          },
          "execution_count": 8
        },
        {
          "output_type": "display_data",
          "data": {
            "image/png": "[encoded data removed]",
            "text/plain": [
              "<Figure size 432x288 with 1 Axes>"
            ]
          },
          "metadata": {
            "tags": [],
            "needs_background": "light"
          }
        }
      ]
    },
    {
      "cell_type": "code",
      "metadata": {
        "id": "66xG6lke_n2T",
        "colab_type": "code",
        "colab": {
          "base_uri": "https://localhost:8080/",
          "height": 314
        },
        "outputId": "6c9d69b4-8179-4af4-ded4-314226fbaf53"
      },
      "source": [
        "plt.plot(historico.history['loss'])\n",
        "plt.plot(historico.history['val_loss'])\n",
        "plt.title('Perdas por épocas')\n",
        "plt.xlabel('Épocas')\n",
        "plt.ylabel('Perda')\n",
        "plt.legend(['treino','validação'])"
      ],
      "execution_count": 9,
      "outputs": [
        {
          "output_type": "execute_result",
          "data": {
            "text/plain": [
              "<matplotlib.legend.Legend at 0x7fbbb727f550>"
            ]
          },
          "metadata": {
            "tags": []
          },
          "execution_count": 9
        },
        {
          "output_type": "display_data",
          "data": {
            "image/png": "[encoded data removed]",
            "text/plain": [
              "<Figure size 432x288 with 1 Axes>"
            ]
          },
          "metadata": {
            "tags": [],
            "needs_background": "light"
          }
        }
      ]
    },
    {
      "cell_type": "markdown",
      "metadata": {
        "id": "25-sNAyGEABI",
        "colab_type": "text"
      },
      "source": [
        "Saída"
      ]
    },
    {
      "cell_type": "code",
      "metadata": {
        "id": "Hz85NSGo1BS6",
        "colab_type": "code",
        "colab": {
          "base_uri": "https://localhost:8080/",
          "height": 51
        },
        "outputId": "a7104f3a-6531-4c64-ec94-542ce4df63eb"
      },
      "source": [
        "#amostra de exemplo\n",
        "testes = modelo.predict(imagens_teste)\n",
        "print('resultado teste:', np.argmax(testes[1]))\n",
        "print('número da imagem de teste:', identificacoes_teste[1])"
      ],
      "execution_count": 10,
      "outputs": [
        {
          "output_type": "stream",
          "text": [
            "resultado teste: 2\n",
            "número da imagem de teste: 2\n"
          ],
          "name": "stdout"
        }
      ]
    },
    {
      "cell_type": "code",
      "metadata": {
        "id": "DZG63FggEt5D",
        "colab_type": "code",
        "colab": {
          "base_uri": "https://localhost:8080/",
          "height": 68
        },
        "outputId": "d39060f1-3dc4-42bd-9ef5-a79f45614df8"
      },
      "source": [
        "#resultado\n",
        "perda_teste, acuracia_teste = modelo.evaluate(imagens_teste, identificacoes_teste)\n",
        "print('Perda do teste:{:2.4}'.format(perda_teste))\n",
        "print('Acurácia do teste:{:2.2%}'.format(acuracia_teste))"
      ],
      "execution_count": 11,
      "outputs": [
        {
          "output_type": "stream",
          "text": [
            "313/313 [==============================] - 0s 2ms/step - loss: 53.5067 - accuracy: 0.8583\n",
            "Perda do teste:53.51\n",
            "Acurácia do teste:85.83%\n"
          ],
          "name": "stdout"
        }
      ]
    }
  ]
}